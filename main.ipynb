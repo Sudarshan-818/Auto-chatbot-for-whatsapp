{
 "cells": [
  {
   "cell_type": "code",
   "execution_count": 1,
   "id": "31cf5bde-e508-4caf-8733-a3e77781d890",
   "metadata": {},
   "outputs": [
    {
     "name": "stdin",
     "output_type": "stream",
     "text": [
      "For Whom do you want to set this autobot Meta\n"
     ]
    },
    {
     "name": "stdout",
     "output_type": "stream",
     "text": [
      "Debate sounds like a blast! What's the topic you'd like to debate? Should I come up with something, or do you have a specific topic in mind? Let's get this debate started! 😄\n",
      "[9:03 am, 14/8/2025] Sudarshan Narhare: yes bring out something interesting\n",
      "Let's debate on:\n",
      "\n",
      "\"Universal Basic Income (UBI) should be implemented globally.\"\n",
      "\n",
      "I'll take the affirmative side, and you can take the negative side. Or vice versa! Let's argue our points and see who makes the most compelling case.\n",
      "\n",
      "You up for this?\n",
      "False\n"
     ]
    },
    {
     "ename": "FailSafeException",
     "evalue": "PyAutoGUI fail-safe triggered from mouse moving to a corner of the screen. To disable this fail-safe, set pyautogui.FAILSAFE to False. DISABLING FAIL-SAFE IS NOT RECOMMENDED.",
     "output_type": "error",
     "traceback": [
      "\u001b[31m---------------------------------------------------------------------------\u001b[39m",
      "\u001b[31mFailSafeException\u001b[39m                         Traceback (most recent call last)",
      "\u001b[36mCell\u001b[39m\u001b[36m \u001b[39m\u001b[32mIn[1]\u001b[39m\u001b[32m, line 45\u001b[39m\n\u001b[32m     42\u001b[39m \u001b[38;5;28;01mwhile\u001b[39;00m \u001b[38;5;28;01mTrue\u001b[39;00m:\n\u001b[32m     44\u001b[39m     pyautogui.moveTo(\u001b[32m663\u001b[39m, \u001b[32m536\u001b[39m)\n\u001b[32m---> \u001b[39m\u001b[32m45\u001b[39m     \u001b[43mpyautogui\u001b[49m\u001b[43m.\u001b[49m\u001b[43mdragTo\u001b[49m\u001b[43m(\u001b[49m\u001b[32;43m811\u001b[39;49m\u001b[43m,\u001b[49m\u001b[43m \u001b[49m\u001b[32;43m977\u001b[39;49m\u001b[43m,\u001b[49m\u001b[43m \u001b[49m\u001b[43mduration\u001b[49m\u001b[43m \u001b[49m\u001b[43m=\u001b[49m\u001b[43m \u001b[49m\u001b[32;43m1.0\u001b[39;49m\u001b[43m,\u001b[49m\u001b[43m \u001b[49m\u001b[43mbutton\u001b[49m\u001b[43m \u001b[49m\u001b[43m=\u001b[49m\u001b[43m \u001b[49m\u001b[33;43m'\u001b[39;49m\u001b[33;43mleft\u001b[39;49m\u001b[33;43m'\u001b[39;49m\u001b[43m)\u001b[49m\n\u001b[32m     46\u001b[39m     pyautogui.hotkey(\u001b[33m'\u001b[39m\u001b[33mctrl\u001b[39m\u001b[33m'\u001b[39m, \u001b[33m'\u001b[39m\u001b[33mc\u001b[39m\u001b[33m'\u001b[39m)\n\u001b[32m     47\u001b[39m     time.sleep(\u001b[32m1\u001b[39m)\n",
      "\u001b[36mFile \u001b[39m\u001b[32m~\\CHATBOT\\botenv\\Lib\\site-packages\\pyautogui\\__init__.py:594\u001b[39m, in \u001b[36m_genericPyAutoGUIChecks.<locals>.wrapper\u001b[39m\u001b[34m(*args, **kwargs)\u001b[39m\n\u001b[32m    591\u001b[39m \u001b[38;5;129m@functools\u001b[39m.wraps(wrappedFunction)\n\u001b[32m    592\u001b[39m \u001b[38;5;28;01mdef\u001b[39;00m\u001b[38;5;250m \u001b[39m\u001b[34mwrapper\u001b[39m(*args, **kwargs):\n\u001b[32m    593\u001b[39m     failSafeCheck()\n\u001b[32m--> \u001b[39m\u001b[32m594\u001b[39m     returnVal = \u001b[43mwrappedFunction\u001b[49m\u001b[43m(\u001b[49m\u001b[43m*\u001b[49m\u001b[43margs\u001b[49m\u001b[43m,\u001b[49m\u001b[43m \u001b[49m\u001b[43m*\u001b[49m\u001b[43m*\u001b[49m\u001b[43mkwargs\u001b[49m\u001b[43m)\u001b[49m\n\u001b[32m    595\u001b[39m     _handlePause(kwargs.get(\u001b[33m\"\u001b[39m\u001b[33m_pause\u001b[39m\u001b[33m\"\u001b[39m, \u001b[38;5;28;01mTrue\u001b[39;00m))\n\u001b[32m    596\u001b[39m     \u001b[38;5;28;01mreturn\u001b[39;00m returnVal\n",
      "\u001b[36mFile \u001b[39m\u001b[32m~\\CHATBOT\\botenv\\Lib\\site-packages\\pyautogui\\__init__.py:1360\u001b[39m, in \u001b[36mdragTo\u001b[39m\u001b[34m(x, y, duration, tween, button, logScreenshot, _pause, mouseDownUp)\u001b[39m\n\u001b[32m   1358\u001b[39m \u001b[38;5;28;01mif\u001b[39;00m mouseDownUp:\n\u001b[32m   1359\u001b[39m     mouseDown(button=button, logScreenshot=\u001b[38;5;28;01mFalse\u001b[39;00m, _pause=\u001b[38;5;28;01mFalse\u001b[39;00m)\n\u001b[32m-> \u001b[39m\u001b[32m1360\u001b[39m \u001b[43m_mouseMoveDrag\u001b[49m\u001b[43m(\u001b[49m\u001b[33;43m\"\u001b[39;49m\u001b[33;43mdrag\u001b[39;49m\u001b[33;43m\"\u001b[39;49m\u001b[43m,\u001b[49m\u001b[43m \u001b[49m\u001b[43mx\u001b[49m\u001b[43m,\u001b[49m\u001b[43m \u001b[49m\u001b[43my\u001b[49m\u001b[43m,\u001b[49m\u001b[43m \u001b[49m\u001b[32;43m0\u001b[39;49m\u001b[43m,\u001b[49m\u001b[43m \u001b[49m\u001b[32;43m0\u001b[39;49m\u001b[43m,\u001b[49m\u001b[43m \u001b[49m\u001b[43mduration\u001b[49m\u001b[43m,\u001b[49m\u001b[43m \u001b[49m\u001b[43mtween\u001b[49m\u001b[43m,\u001b[49m\u001b[43m \u001b[49m\u001b[43mbutton\u001b[49m\u001b[43m)\u001b[49m\n\u001b[32m   1361\u001b[39m \u001b[38;5;28;01mif\u001b[39;00m mouseDownUp:\n\u001b[32m   1362\u001b[39m     mouseUp(button=button, logScreenshot=\u001b[38;5;28;01mFalse\u001b[39;00m, _pause=\u001b[38;5;28;01mFalse\u001b[39;00m)\n",
      "\u001b[36mFile \u001b[39m\u001b[32m~\\CHATBOT\\botenv\\Lib\\site-packages\\pyautogui\\__init__.py:1504\u001b[39m, in \u001b[36m_mouseMoveDrag\u001b[39m\u001b[34m(moveOrDrag, x, y, xOffset, yOffset, duration, tween, button)\u001b[39m\n\u001b[32m   1500\u001b[39m \u001b[38;5;66;03m# Do a fail-safe check to see if the user moved the mouse to a fail-safe position, but not if the mouse cursor\u001b[39;00m\n\u001b[32m   1501\u001b[39m \u001b[38;5;66;03m# moved there as a result of this function. (Just because tweenX and tweenY aren't in a fail-safe position\u001b[39;00m\n\u001b[32m   1502\u001b[39m \u001b[38;5;66;03m# doesn't mean the user couldn't have moved the mouse cursor to a fail-safe position.)\u001b[39;00m\n\u001b[32m   1503\u001b[39m \u001b[38;5;28;01mif\u001b[39;00m (tweenX, tweenY) \u001b[38;5;129;01mnot\u001b[39;00m \u001b[38;5;129;01min\u001b[39;00m FAILSAFE_POINTS:\n\u001b[32m-> \u001b[39m\u001b[32m1504\u001b[39m     \u001b[43mfailSafeCheck\u001b[49m\u001b[43m(\u001b[49m\u001b[43m)\u001b[49m\n\u001b[32m   1506\u001b[39m \u001b[38;5;28;01mif\u001b[39;00m moveOrDrag == \u001b[33m\"\u001b[39m\u001b[33mmove\u001b[39m\u001b[33m\"\u001b[39m:\n\u001b[32m   1507\u001b[39m     platformModule._moveTo(tweenX, tweenY)\n",
      "\u001b[36mFile \u001b[39m\u001b[32m~\\CHATBOT\\botenv\\Lib\\site-packages\\pyautogui\\__init__.py:1734\u001b[39m, in \u001b[36mfailSafeCheck\u001b[39m\u001b[34m()\u001b[39m\n\u001b[32m   1732\u001b[39m \u001b[38;5;28;01mdef\u001b[39;00m\u001b[38;5;250m \u001b[39m\u001b[34mfailSafeCheck\u001b[39m():\n\u001b[32m   1733\u001b[39m     \u001b[38;5;28;01mif\u001b[39;00m FAILSAFE \u001b[38;5;129;01mand\u001b[39;00m \u001b[38;5;28mtuple\u001b[39m(position()) \u001b[38;5;129;01min\u001b[39;00m FAILSAFE_POINTS:\n\u001b[32m-> \u001b[39m\u001b[32m1734\u001b[39m         \u001b[38;5;28;01mraise\u001b[39;00m FailSafeException(\n\u001b[32m   1735\u001b[39m             \u001b[33m\"\u001b[39m\u001b[33mPyAutoGUI fail-safe triggered from mouse moving to a corner of the screen. To disable this fail-safe, set pyautogui.FAILSAFE to False. DISABLING FAIL-SAFE IS NOT RECOMMENDED.\u001b[39m\u001b[33m\"\u001b[39m\n\u001b[32m   1736\u001b[39m         )\n",
      "\u001b[31mFailSafeException\u001b[39m: PyAutoGUI fail-safe triggered from mouse moving to a corner of the screen. To disable this fail-safe, set pyautogui.FAILSAFE to False. DISABLING FAIL-SAFE IS NOT RECOMMENDED."
     ]
    }
   ],
   "source": [
    "import pyautogui\n",
    "import pyperclip\n",
    "import time\n",
    "from groq import Groq\n",
    "\n",
    "# we can set this autobot for anyone by just giving input name\n",
    "sender_name = input(\"For Whom do you want to set this autobot\")\n",
    "pyperclip.copy(sender_name)\n",
    "\n",
    "\n",
    "# This opens whatsapp\n",
    "pyautogui.click(1029, 1065)\n",
    "time.sleep(2)\n",
    "\n",
    "pyautogui.click(310, 213)\n",
    "time.sleep(2)\n",
    "pyautogui.hotkey('ctrl', 'v')\n",
    "time.sleep(2)\n",
    "pyautogui.click(280, 435)\n",
    "time.sleep(2)\n",
    "\n",
    "# This copies the desired chat\n",
    "pyautogui.moveTo(663, 536)\n",
    "pyautogui.dragTo(811, 977, duration = 1.0, button = 'left')\n",
    "pyautogui.hotkey('ctrl', 'c')\n",
    "time.sleep(1)\n",
    "pyautogui.click(822, 576) \n",
    "text = pyperclip.paste()\n",
    "\n",
    "print(text)\n",
    "\n",
    "# to check if the last message is sent by the sender\n",
    "def last_msg_by(text, sender_name):\n",
    "    msg = text.strip().split(\"/2025\")[-1]\n",
    "    if sender_name in msg:\n",
    "        return True\n",
    "    return False\n",
    "print(last_msg_by(text, sender_name) )\n",
    "\n",
    "\n",
    "# we will keep checking if the sender sends a message bot will reply\n",
    "while True:\n",
    "    \n",
    "    pyautogui.moveTo(663, 536)\n",
    "    pyautogui.dragTo(811, 977, duration = 1.0, button = 'left')\n",
    "    pyautogui.hotkey('ctrl', 'c')\n",
    "    time.sleep(1)\n",
    "    pyautogui.click(822, 576) \n",
    "    text = pyperclip.paste()\n",
    "\n",
    "    # if the last message is sent by the sender then only our bot will reply\n",
    "    if last_msg_by(text, sender_name) == True:\n",
    "\n",
    "        # we are using Groq api cause it's free but for better responses we can switch to the openai which is paid\n",
    "        client = Groq(api_key=\"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\")\n",
    "        completion = client.chat.completions.create(\n",
    "            model=\"llama3-8b-8192\",\n",
    "            messages=[\n",
    "                {\"role\": \"system\", \"content\": (\n",
    "                    \"You are Sudarshan, also known as Diode — an Indian coder \"\n",
    "                    \"who speaks fluent Hindi and English and do not text translation in bracket. You respond like a real \"\n",
    "                    \"person in casual conversation, mixing Hindi and English with naturally. \"\n",
    "                    \"Your replies should be context-aware, relevant, and friendly. \"\n",
    "                    \"Do NOT include timestamps, dates, or your name. \"\n",
    "                    \"Do NOT repeat the user's message. Only output the reply text.\"\n",
    "                    \"Use emojis to make the conversation natural.\"\n",
    "                )},\n",
    "                {\"role\": \"user\", \"content\": text}\n",
    "            ]\n",
    "        )\n",
    "        response = completion.choices[0].message.content\n",
    "        pyperclip.copy(response)\n",
    "        pyautogui.click(1250, 971)\n",
    "        time.sleep(1)\n",
    "        pyautogui.hotkey('ctrl', 'v')\n",
    "        time.sleep(1)\n",
    "        pyautogui.press('enter')\n",
    "        time.sleep(5)\n",
    "\n",
    "# move cursor on top left to stop the autobot\n",
    "pyautogui.FAILSAFE = True"
   ]
  },
  {
   "cell_type": "code",
   "execution_count": null,
   "id": "28b87c64-d0b5-4505-b0f2-ea2e5aa8f0eb",
   "metadata": {},
   "outputs": [],
   "source": []
  },
  {
   "cell_type": "code",
   "execution_count": null,
   "id": "9db14d66-908c-4daf-b758-35a3da5f0316",
   "metadata": {},
   "outputs": [],
   "source": []
  }
 ],
 "metadata": {
  "kernelspec": {
   "display_name": "Python (botenv)",
   "language": "python",
   "name": "botenv"
  },
  "language_info": {
   "codemirror_mode": {
    "name": "ipython",
    "version": 3
   },
   "file_extension": ".py",
   "mimetype": "text/x-python",
   "name": "python",
   "nbconvert_exporter": "python",
   "pygments_lexer": "ipython3",
   "version": "3.12.7"
  }
 },
 "nbformat": 4,
 "nbformat_minor": 5
}
